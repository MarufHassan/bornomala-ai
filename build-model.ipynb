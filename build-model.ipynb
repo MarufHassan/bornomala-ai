{
 "cells": [
  {
   "cell_type": "code",
   "execution_count": 1,
   "metadata": {
    "_cell_guid": "b1076dfc-b9ad-4769-8c92-a6c4dae69d19",
    "_uuid": "8f2839f25d086af736a60e9eeb907d3b93b6e0e5"
   },
   "outputs": [],
   "source": [
    "# This Python 3 environment comes with many helpful analytics libraries installed\n",
    "# It is defined by the kaggle/python docker image: https://github.com/kaggle/docker-python\n",
    "# For example, here's several helpful packages to load in \n",
    "\n",
    "import numpy as np # linear algebra\n",
    "import pandas as pd # data processing, CSV file I/O (e.g. pd.read_csv)\n",
    "\n",
    "# Input data files are available in the \"../input/\" directory.\n",
    "# For example, running this (by clicking run or pressing Shift+Enter) will list all files under the input directory\n",
    "\n",
    "import os\n",
    "for dirname, _, filenames in os.walk('/kaggle/input'):\n",
    "    for filename in filenames:\n",
    "        os.path.join(dirname, filename)\n",
    "\n",
    "# Any results you write to the current directory are saved as output."
   ]
  },
  {
   "cell_type": "code",
   "execution_count": 2,
   "metadata": {},
   "outputs": [
    {
     "name": "stderr",
     "output_type": "stream",
     "text": [
      "Using TensorFlow backend.\n"
     ]
    }
   ],
   "source": [
    "from keras.preprocessing.image import ImageDataGenerator \n",
    "\n",
    "datagen = ImageDataGenerator(validation_split=0.2)"
   ]
  },
  {
   "cell_type": "code",
   "execution_count": 3,
   "metadata": {
    "_cell_guid": "79c7e3d0-c299-4dcb-8224-4455121ee9b0",
    "_uuid": "d629ff2d2480ee46fbb7e2d37f6b5fab8052498a"
   },
   "outputs": [
    {
     "name": "stdout",
     "output_type": "stream",
     "text": [
      "Found 2112 images belonging to 11 classes.\n"
     ]
    }
   ],
   "source": [
    "train = datagen.flow_from_directory('/kaggle/input/bangla-ocr/Train/', class_mode='categorical', color_mode = 'grayscale', target_size = (32,32), batch_size=64, subset='training')"
   ]
  },
  {
   "cell_type": "code",
   "execution_count": 4,
   "metadata": {},
   "outputs": [
    {
     "name": "stdout",
     "output_type": "stream",
     "text": [
      "Found 528 images belonging to 11 classes.\n"
     ]
    }
   ],
   "source": [
    "val = datagen.flow_from_directory('/kaggle/input/bangla-ocr/Train/', class_mode='categorical', color_mode = 'grayscale', target_size = (32,32), batch_size=64, subset='validation') "
   ]
  },
  {
   "cell_type": "code",
   "execution_count": 5,
   "metadata": {},
   "outputs": [],
   "source": [
    "from keras.models import Sequential \n",
    "from keras.layers import Conv2D, MaxPooling2D \n",
    "from keras.layers import Activation, Dropout, Flatten, Dense \n",
    "from keras import backend as K \n",
    "from glob import glob\n",
    "from keras.preprocessing.image import ImageDataGenerator\n",
    "from keras.layers import Convolution2D,MaxPooling2D,Dropout,Dense,Flatten,BatchNormalization,Conv2D\n",
    "from keras.applications.resnet50 import ResNet50"
   ]
  },
  {
   "cell_type": "code",
   "execution_count": 6,
   "metadata": {},
   "outputs": [],
   "source": [
    "model1 = Sequential()\n",
    "model1.add(Convolution2D(32,(3,3),activation='relu',input_shape = (32,32,1)))\n",
    "model1.add(MaxPooling2D(2,2))\n",
    "model1.add(Convolution2D(64,(3,3),activation='relu'))\n",
    "model1.add(BatchNormalization())\n",
    "model1.add(MaxPooling2D(2,2))\n",
    "model1.add(Dropout(0.2))\n",
    "model1.add(Convolution2D(128,(3,3),activation='relu'))\n",
    "model1.add(BatchNormalization())\n",
    "model1.add(MaxPooling2D(2,2))\n",
    "model1.add(Dropout(0.2))\n",
    "model1.add(Flatten())\n",
    "model1.add(Dense(256,activation='relu'))\n",
    "model1.add(Dense(512,activation='relu'))\n",
    "model1.add(Dense(100,activation='relu'))\n",
    "model1.add(Dense(11,activation='softmax'))\n",
    "model1.compile(optimizer='adam',loss='categorical_crossentropy',metrics=['accuracy'])"
   ]
  },
  {
   "cell_type": "code",
   "execution_count": 7,
   "metadata": {},
   "outputs": [
    {
     "name": "stdout",
     "output_type": "stream",
     "text": [
      "_________________________________________________________________\n",
      "Layer (type)                 Output Shape              Param #   \n",
      "=================================================================\n",
      "conv2d_1 (Conv2D)            (None, 30, 30, 32)        320       \n",
      "_________________________________________________________________\n",
      "max_pooling2d_1 (MaxPooling2 (None, 15, 15, 32)        0         \n",
      "_________________________________________________________________\n",
      "conv2d_2 (Conv2D)            (None, 13, 13, 64)        18496     \n",
      "_________________________________________________________________\n",
      "batch_normalization_1 (Batch (None, 13, 13, 64)        256       \n",
      "_________________________________________________________________\n",
      "max_pooling2d_2 (MaxPooling2 (None, 6, 6, 64)          0         \n",
      "_________________________________________________________________\n",
      "dropout_1 (Dropout)          (None, 6, 6, 64)          0         \n",
      "_________________________________________________________________\n",
      "conv2d_3 (Conv2D)            (None, 4, 4, 128)         73856     \n",
      "_________________________________________________________________\n",
      "batch_normalization_2 (Batch (None, 4, 4, 128)         512       \n",
      "_________________________________________________________________\n",
      "max_pooling2d_3 (MaxPooling2 (None, 2, 2, 128)         0         \n",
      "_________________________________________________________________\n",
      "dropout_2 (Dropout)          (None, 2, 2, 128)         0         \n",
      "_________________________________________________________________\n",
      "flatten_1 (Flatten)          (None, 512)               0         \n",
      "_________________________________________________________________\n",
      "dense_1 (Dense)              (None, 256)               131328    \n",
      "_________________________________________________________________\n",
      "dense_2 (Dense)              (None, 512)               131584    \n",
      "_________________________________________________________________\n",
      "dense_3 (Dense)              (None, 100)               51300     \n",
      "_________________________________________________________________\n",
      "dense_4 (Dense)              (None, 11)                1111      \n",
      "=================================================================\n",
      "Total params: 408,763\n",
      "Trainable params: 408,379\n",
      "Non-trainable params: 384\n",
      "_________________________________________________________________\n"
     ]
    }
   ],
   "source": [
    "model1.summary()"
   ]
  },
  {
   "cell_type": "code",
   "execution_count": 8,
   "metadata": {},
   "outputs": [
    {
     "name": "stdout",
     "output_type": "stream",
     "text": [
      "Epoch 1/50\n",
      "500/500 [==============================] - 36s 72ms/step - loss: 0.3719 - acc: 0.8632 - val_loss: 0.5589 - val_acc: 0.8568\n",
      "Epoch 2/50\n",
      "500/500 [==============================] - 33s 67ms/step - loss: 0.0509 - acc: 0.9825 - val_loss: 0.5436 - val_acc: 0.8830\n",
      "Epoch 3/50\n",
      "500/500 [==============================] - 34s 68ms/step - loss: 0.0425 - acc: 0.9864 - val_loss: 0.6809 - val_acc: 0.8573\n",
      "Epoch 4/50\n",
      "500/500 [==============================] - 34s 67ms/step - loss: 0.0253 - acc: 0.9918 - val_loss: 0.6204 - val_acc: 0.8763\n",
      "Epoch 5/50\n",
      "500/500 [==============================] - 34s 67ms/step - loss: 0.0228 - acc: 0.9929 - val_loss: 0.4416 - val_acc: 0.9108\n",
      "Epoch 6/50\n",
      "500/500 [==============================] - 34s 68ms/step - loss: 0.0168 - acc: 0.9945 - val_loss: 0.4773 - val_acc: 0.9139\n",
      "Epoch 7/50\n",
      "500/500 [==============================] - 34s 67ms/step - loss: 0.0147 - acc: 0.9956 - val_loss: 0.4849 - val_acc: 0.8966\n",
      "Epoch 8/50\n",
      "500/500 [==============================] - 34s 67ms/step - loss: 0.0176 - acc: 0.9948 - val_loss: 0.5511 - val_acc: 0.9151\n",
      "Epoch 9/50\n",
      "500/500 [==============================] - 34s 67ms/step - loss: 0.0175 - acc: 0.9949 - val_loss: 0.6565 - val_acc: 0.8940\n",
      "Epoch 10/50\n",
      "500/500 [==============================] - 34s 67ms/step - loss: 0.0118 - acc: 0.9966 - val_loss: 0.4993 - val_acc: 0.9054\n",
      "Epoch 11/50\n",
      "500/500 [==============================] - 34s 67ms/step - loss: 0.0126 - acc: 0.9960 - val_loss: 0.4937 - val_acc: 0.9185\n",
      "Epoch 12/50\n",
      "462/500 [==========================>...] - ETA: 2s - loss: 0.0136 - acc: 0.9961"
     ]
    }
   ],
   "source": [
    "model1.fit_generator(train,steps_per_epoch=500,\n",
    "                              epochs = 50,validation_data=val,validation_steps=40)"
   ]
  },
  {
   "cell_type": "code",
   "execution_count": 9,
   "metadata": {},
   "outputs": [
    {
     "name": "stdout",
     "output_type": "stream",
     "text": [
      "Found 660 images belonging to 11 classes.\n"
     ]
    }
   ],
   "source": [
    "test = datagen.flow_from_directory('/kaggle/input/bangla-ocr/Test/',color_mode='grayscale', class_mode='categorical', target_size = (32,32), batch_size=64)"
   ]
  },
  {
   "cell_type": "code",
   "execution_count": 10,
   "metadata": {},
   "outputs": [
    {
     "name": "stdout",
     "output_type": "stream",
     "text": [
      "Saved model to disk\n"
     ]
    }
   ],
   "source": [
    "model1.save(\"model.h5\")\n",
    "print(\"Saved model to disk\")"
   ]
  }
 ],
 "metadata": {
  "kernelspec": {
   "display_name": "Python 3",
   "language": "python",
   "name": "python3"
  },
  "language_info": {
   "codemirror_mode": {
    "name": "ipython",
    "version": 3
   },
   "file_extension": ".py",
   "mimetype": "text/x-python",
   "name": "python",
   "nbconvert_exporter": "python",
   "pygments_lexer": "ipython3",
   "version": "3.7.3"
  }
 },
 "nbformat": 4,
 "nbformat_minor": 1
}
